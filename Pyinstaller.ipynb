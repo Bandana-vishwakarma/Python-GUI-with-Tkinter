{
 "cells": [
  {
   "cell_type": "markdown",
   "id": "32238495",
   "metadata": {},
   "source": [
    "<b> What PyInstaller Does and How It Does It</b>"
   ]
  },
  {
   "cell_type": "markdown",
   "id": "bbbdf2cb",
   "metadata": {},
   "source": [
    "* Pyinstaller reads a python script written by you. \n",
    "* It analyzes your code to discover every other module and library your script needs in order to execute. \n",
    "* Then it collects copies of all those files – including the active Python interpreter! – and puts them with your script in a single folder, or optionally in a single executable file. "
   ]
  },
  {
   "cell_type": "markdown",
   "id": "a965cb0c",
   "metadata": {},
   "source": [
    "<b>Analysis: Finding the Files Your Program Needs</b>"
   ]
  },
  {
   "cell_type": "markdown",
   "id": "72e70936",
   "metadata": {},
   "source": [
    "* What other modules and libraries does your script need in order to run? (These are sometimes called its “dependencies”.)\n",
    "* To find out, PyInstaller finds all the import statements in your script. It finds the imported modules and looks in them for import statements, and so on recursively, until it has a complete list of modules your script may use.\n",
    "* PyInstaller understands the “egg” distribution format often used for Python packages. If your script imports a module from an “egg”, PyInstaller adds the egg and its dependencies to the set of needed files.\n",
    "* PyInstaller also knows about many major Python packages, including the GUI packages Qt (imported via PyQt or PySide), WxPython, TkInter, matplotlib, and other major packages."
   ]
  },
  {
   "cell_type": "markdown",
   "id": "414cfff6",
   "metadata": {},
   "source": [
    "<b>Bundling to One Folder</b>"
   ]
  },
  {
   "cell_type": "markdown",
   "id": "c055ade6",
   "metadata": {},
   "source": [
    "* When you apply PyInstaller to myscript.py the default result is a single folder named myscript. This folder contains all your script’s dependencies, and an executable file also named myscript (myscript.exe in Windows).\n",
    "* You compress the folder to myscript.zip and transmit it to your users. They install the program simply by unzipping it. A user runs your app by opening the folder and launching the myscript executable inside it.\n",
    "* It is easy to debug problems that occur when building the app when you use one-folder mode. You can see exactly what files PyInstaller collected into the folder."
   ]
  },
  {
   "cell_type": "markdown",
   "id": "2aa398fe",
   "metadata": {},
   "source": [
    "<b>How the One-Folder Program Works</b>"
   ]
  },
  {
   "cell_type": "markdown",
   "id": "41a05734",
   "metadata": {},
   "source": [
    "* A bundled program always starts execution in the PyInstaller bootloader. This is the heart of the myscript executable in the folder.\n",
    "\n",
    "* The PyInstaller bootloader is a binary executable program for the active platform (Windows, GNU/Linux, macOS, etc.). When the user launches your program, it is the bootloader that runs. The bootloader creates a temporary Python environment such that the Python interpreter will find all imported modules and libraries in the myscript folder.\n",
    "\n",
    "* The bootloader starts a copy of the Python interpreter to execute your script. Everything follows normally from there, provided that all the necessary support files were included."
   ]
  },
  {
   "cell_type": "markdown",
   "id": "3555f6fd",
   "metadata": {},
   "source": [
    "<b>Bundling to One File</b>"
   ]
  },
  {
   "cell_type": "markdown",
   "id": "caa7f098",
   "metadata": {},
   "source": [
    "* PyInstaller can bundle your script and all its dependencies into a single executable named myscript (myscript.exe in Windows).\n",
    "\n",
    "* The advantage is that your users get something they understand, a single executable to launch. A disadvantage is that any related files such as a README must be distributed separately. Also, the single executable is a little slower to start up than the one-folder bundle.\n",
    "\n",
    "* Before you attempt to bundle to one file, make sure your app works correctly when bundled to one folder."
   ]
  },
  {
   "cell_type": "markdown",
   "id": "47837cb2",
   "metadata": {},
   "source": [
    "<b>Hiding the Source Code</b>"
   ]
  },
  {
   "cell_type": "markdown",
   "id": "d4c232c3",
   "metadata": {},
   "source": [
    "* The bundled app does not include any source code. However, PyInstaller bundles compiled Python scripts (.pyc files). These could in principle be decompiled to reveal the logic of your code.\n",
    "\n",
    "* If you want to hide your source code more thoroughly, one possible option is to compile some of your modules with Cython. Using Cython you can convert Python modules into C and compile the C to machine language. PyInstaller can follow import statements that refer to Cython C object modules and bundle them."
   ]
  }
 ],
 "metadata": {
  "kernelspec": {
   "display_name": "Python 3 (ipykernel)",
   "language": "python",
   "name": "python3"
  },
  "language_info": {
   "codemirror_mode": {
    "name": "ipython",
    "version": 3
   },
   "file_extension": ".py",
   "mimetype": "text/x-python",
   "name": "python",
   "nbconvert_exporter": "python",
   "pygments_lexer": "ipython3",
   "version": "3.9.12"
  }
 },
 "nbformat": 4,
 "nbformat_minor": 5
}
