{
 "cells": [
  {
   "cell_type": "markdown",
   "id": "7e5149b0",
   "metadata": {},
   "source": [
    "### Scrollbar"
   ]
  },
  {
   "cell_type": "markdown",
   "id": "08dbdd54",
   "metadata": {},
   "source": [
    "It refers to the slide controller which will be used to implement listed widgets."
   ]
  },
  {
   "cell_type": "markdown",
   "id": "02d16006",
   "metadata": {},
   "source": [
    "There are number of options which are used to change the format of the widget. Number of options can be passed as parameters separated by commas.\n",
    "* <b>width:</b> to set the width of the widget.\n",
    "* <b>activebackground:</b> To set the background when mouse is over the widget.\n",
    "* <b>bg:</b> to set he normal background color.\n",
    "* <b>bd:</b> to set the size of border around the indicator.\n",
    "* <b>cursor:</b> To appear the cursor when the mouse over the menubutton.\n",
    "\n",
    "<b>Syntax:</b> \n",
    "* w = Scrollbar(master, option=value)"
   ]
  },
  {
   "cell_type": "code",
   "execution_count": 6,
   "id": "4652d6bb",
   "metadata": {},
   "outputs": [],
   "source": [
    "import tkinter as tk\n",
    "from tkinter import ttk\n",
    "\n",
    "root = tk.Tk()\n",
    "root.geometry(\"600x400\")\n",
    "root.resizable(False, False)\n",
    "root.title(\"Scrollbar\")\n",
    "\n",
    "root.grid_columnconfigure(0, weight=1)\n",
    "root.grid_rowconfigure(0, weight=1)\n",
    "\n",
    "text = tk.Text(root, height=8)\n",
    "text.grid(row=0, column=0, sticky=\"ew\")\n",
    "text.insert(\"1.0\", \"Please enter a comment....\")\n",
    "\n",
    "text_scroll = ttk.Scrollbar(root, orient=\"vertical\", command=text.yview)\n",
    "text_scroll.grid(row=0, column=1, sticky=\"ns\")\n",
    "text[\"yscrollcommand\"] = text_scroll.set\n",
    "\n",
    "root.mainloop()"
   ]
  }
 ],
 "metadata": {
  "kernelspec": {
   "display_name": "Python 3 (ipykernel)",
   "language": "python",
   "name": "python3"
  },
  "language_info": {
   "codemirror_mode": {
    "name": "ipython",
    "version": 3
   },
   "file_extension": ".py",
   "mimetype": "text/x-python",
   "name": "python",
   "nbconvert_exporter": "python",
   "pygments_lexer": "ipython3",
   "version": "3.9.12"
  }
 },
 "nbformat": 4,
 "nbformat_minor": 5
}
