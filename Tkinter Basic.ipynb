{
 "cells": [
  {
   "cell_type": "markdown",
   "id": "7f49dd6f",
   "metadata": {},
   "source": [
    "### Python GUI - Tkinter"
   ]
  },
  {
   "cell_type": "markdown",
   "id": "8388921e",
   "metadata": {},
   "source": [
    "Python offers multiple options for developing GUI (Graphical User Interface). Out of all the GUI methods, tkinter is the most commonly used method. It is a standard Python interface to the Tk GUI toolkit shipped with Python. Python with tkinter is the fastest and easiest way to create the GUI applications."
   ]
  },
  {
   "cell_type": "markdown",
   "id": "badc063c",
   "metadata": {},
   "source": [
    "<b>To create a tkinter app:</b>"
   ]
  },
  {
   "cell_type": "markdown",
   "id": "714b9a0b",
   "metadata": {},
   "source": [
    "* Importing the module – tkinter\n",
    "* Create the main window (container)\n",
    "* Add any number of widgets to the main window\n",
    "* Apply the event Trigger on the widgets."
   ]
  },
  {
   "cell_type": "code",
   "execution_count": 4,
   "id": "552c9771",
   "metadata": {},
   "outputs": [],
   "source": [
    "import tkinter\n",
    "tkinter._test()"
   ]
  },
  {
   "cell_type": "markdown",
   "id": "6d9c6f26",
   "metadata": {},
   "source": [
    "There are two main methods used which the user needs to remember while creating the Python application with GUI."
   ]
  },
  {
   "cell_type": "markdown",
   "id": "ccbe68aa",
   "metadata": {},
   "source": [
    "1. <b>Tk(screenName=None,  baseName=None,  className=’Tk’,  useTk=1)</b> \n",
    "* To create a main window, tkinter offers a method ‘Tk(screenName=None,  baseName=None,  className=’Tk’,  useTk=1)’. To change the name of the window, you can change the className to the desired one.\n",
    "\n",
    "2. <b>mainloop()</b>\n",
    "* There is a method known by the name mainloop() is used when your application is ready to run. mainloop() is an infinite loop used to run the application, wait for an event to occur and process the event as long as the window is not closed."
   ]
  },
  {
   "cell_type": "code",
   "execution_count": 37,
   "id": "e109fde6",
   "metadata": {},
   "outputs": [],
   "source": [
    "#Hello world! with Tkinter\n",
    "import tkinter as tk\n",
    "from tkinter import ttk\n",
    "\n",
    "root = tk.Tk()\n",
    "ttk.Label(root, text=\"Hello World!\", padding=(30, 10)).pack()\n",
    "\n",
    "root.mainloop()"
   ]
  },
  {
   "cell_type": "markdown",
   "id": "7abc93b8",
   "metadata": {},
   "source": [
    "tkinter also offers access to the geometric configuration of the widgets which can organize the widgets in the parent windows. There are mainly three geometry manager classes class."
   ]
  },
  {
   "cell_type": "markdown",
   "id": "b4c388b9",
   "metadata": {},
   "source": [
    "1.<b>pack() method:</b> \n",
    "* It organizes the widgets in blocks before placing in the parent widget.\n",
    "\n",
    "2.<b>grid() method:</b> \n",
    "* It organizes the widgets in grid (table-like structure) before placing in the parent widget.\n",
    "\n",
    "3.<b>place() method:</b>\n",
    "* It organizes the widgets by placing them on specific positions directed by the programmer."
   ]
  },
  {
   "cell_type": "markdown",
   "id": "fe5fe243",
   "metadata": {},
   "source": [
    "<b>Creating a Greeting Application</b>"
   ]
  },
  {
   "cell_type": "code",
   "execution_count": 22,
   "id": "816ddd84",
   "metadata": {},
   "outputs": [
    {
     "name": "stdout",
     "output_type": "stream",
     "text": [
      "Hello, World!\n"
     ]
    }
   ],
   "source": [
    "import tkinter as tk\n",
    "from tkinter import ttk\n",
    "\n",
    "def greet():\n",
    "    print(f\"Hello, {user_name.get() or 'World'}!\")\n",
    "\n",
    "root = tk.Tk()\n",
    "root.title(\"Greeting\")\n",
    "\n",
    "user_name = tk.StringVar()\n",
    "\n",
    "name_label = ttk.Label(root, text=\"Name: \")\n",
    "name_label.pack(side=\"left\", padx=(0, 10))\n",
    "\n",
    "name_entry = ttk.Entry(root, width=15, textvariable=user_name)\n",
    "name_entry.pack(side=\"left\")\n",
    "\n",
    "greet_button = ttk.Button(root, text=\"Greet\", command=greet)\n",
    "greet_button.pack( side=\"left\", fill=\"x\", expand=True)\n",
    "\n",
    "quit_button = ttk.Button(root, text=\"Quit\", command=root.destroy)\n",
    "quit_button.pack(side=\"left\", fill=\"x\", expand=True)\n",
    "\n",
    "root.mainloop()"
   ]
  },
  {
   "cell_type": "markdown",
   "id": "804a1d29",
   "metadata": {},
   "source": [
    "<b>Packing Components in tkinter</b>"
   ]
  },
  {
   "cell_type": "code",
   "execution_count": 58,
   "id": "f6c62900",
   "metadata": {},
   "outputs": [],
   "source": [
    "import tkinter as tk\n",
    "\n",
    "root = tk.Tk()\n",
    "root.geometry(\"600x400\")\n",
    "\n",
    "rectangle_1 = tk.Label(root, text=\"Rectangle 1\", bg=\"green\", fg=\"white\")\n",
    "rectangle_1.pack(side=\"left\", ipadx=10, ipady=10, fill=\"both\", expand=True)\n",
    "\n",
    "rectangle_2 = tk.Label(root, text=\"Rectangle 2\", bg=\"red\", fg=\"white\")\n",
    "rectangle_2.pack(side=\"top\", ipadx=10, ipady=10, fill=\"both\", expand=True)\n",
    "\n",
    "rectangle_3 = tk.Label(root, text=\"Rectangle 3\", bg=\"black\", fg=\"white\")\n",
    "rectangle_3.pack(side=\"left\", ipadx=10, ipady=10, fill=\"both\", expand=True)\n",
    "\n",
    "root.mainloop()"
   ]
  },
  {
   "cell_type": "markdown",
   "id": "2e5b184d",
   "metadata": {},
   "source": [
    "<b>Packing Components with Frames</b>"
   ]
  },
  {
   "cell_type": "code",
   "execution_count": 59,
   "id": "d826427c",
   "metadata": {},
   "outputs": [],
   "source": [
    "import tkinter as tk\n",
    "from tkinter import ttk\n",
    "\n",
    "root = tk.Tk()\n",
    "\n",
    "main = ttk.Frame(root)\n",
    "main.pack(side=\"left\", fill=\"both\", expand=True)\n",
    "\n",
    "tk.Label(main, text=\"Label top\", bg=\"red\").pack(side=\"top\", expand=True, fill=\"both\")\n",
    "tk.Label(main, text=\"Label top\", bg=\"red\").pack(side=\"top\", expand=True, fill=\"both\")\n",
    "tk.Label(root, text=\"Label left\", bg=\"green\").pack(side=\"left\", expand=True, fill=\"both\")\n",
    "\n",
    "root.mainloop()"
   ]
  },
  {
   "cell_type": "markdown",
   "id": "bdf895b9",
   "metadata": {},
   "source": [
    "<b>Our greeting app using pack</b>"
   ]
  },
  {
   "cell_type": "code",
   "execution_count": 63,
   "id": "0da6f33b",
   "metadata": {},
   "outputs": [
    {
     "name": "stdout",
     "output_type": "stream",
     "text": [
      "Hello, rama!\n"
     ]
    }
   ],
   "source": [
    "import tkinter as tk\n",
    "from tkinter import ttk\n",
    "\n",
    "def greet():\n",
    "    print(f\"Hello, {user_name.get() or 'World'}!\")\n",
    "\n",
    "root = tk.Tk()\n",
    "root.title(\"Greeter\")\n",
    "\n",
    "user_name = tk.StringVar()\n",
    "\n",
    "input_frame = ttk.Frame(root, padding=(20, 10, 20, 0))\n",
    "input_frame.pack(fill=\"both\")\n",
    "\n",
    "\n",
    "name_label = ttk.Label(input_frame, text=\"Name: \")\n",
    "name_label.pack(side=\"left\", padx=(0, 10))\n",
    "name_entry = ttk.Entry(input_frame, width=15, textvariable=user_name)\n",
    "name_entry.pack(side=\"left\")\n",
    "\n",
    "buttons = ttk.Frame(root, padding=(20, 10))\n",
    "buttons.pack(fill=\"both\")\n",
    "\n",
    "greet_button = ttk.Button(root, text=\"Greet\", command=greet)\n",
    "greet_button.pack( side=\"left\", fill=\"x\", expand=True)\n",
    "quit_button = ttk.Button(root, text=\"Quit\", command=root.destroy)\n",
    "quit_button.pack(side=\"left\", fill=\"x\", expand=True)\n",
    "\n",
    "root.mainloop()"
   ]
  },
  {
   "cell_type": "markdown",
   "id": "2fbde5cd",
   "metadata": {},
   "source": [
    "<b>The Grid Geometry Manager</b>"
   ]
  },
  {
   "cell_type": "code",
   "execution_count": 90,
   "id": "87805aab",
   "metadata": {},
   "outputs": [],
   "source": [
    "import tkinter as tk\n",
    "from tkinter import ttk\n",
    "\n",
    "def greet():\n",
    "    print(f\"Hello, {user_name.get() or 'World'}!\")\n",
    "\n",
    "root = tk.Tk()\n",
    "root.title(\"Greeter\")\n",
    "\n",
    "root.columnconfigure(0, weight=1)\n",
    "\n",
    "user_name = tk.StringVar()\n",
    "\n",
    "input_frame = ttk.Frame(root, padding=(20, 10, 20, 0))\n",
    "input_frame.grid()\n",
    "\n",
    "\n",
    "name_label = ttk.Label(input_frame, text=\"Name: \")\n",
    "name_label.grid( padx=(0, 10))\n",
    "name_entry = ttk.Entry(input_frame, width=15, textvariable=user_name)\n",
    "name_entry.grid()\n",
    "\n",
    "buttons = ttk.Frame(root, padding=(20, 10))\n",
    "buttons.grid()\n",
    "\n",
    "root.columnconfigure(0, weight=1)\n",
    "root.columnconfigure(1, weight=1)\n",
    "\n",
    "greet_button = ttk.Button(root, text=\"Greet\", command=greet)\n",
    "greet_button.grid()\n",
    "quit_button = ttk.Button(root, text=\"Quit\", command=root.destroy)\n",
    "quit_button.grid()\n",
    "\n",
    "root.mainloop()"
   ]
  },
  {
   "cell_type": "markdown",
   "id": "422a470d",
   "metadata": {},
   "source": [
    "<b>Enabling High DPI in Windows 10</b>"
   ]
  },
  {
   "cell_type": "code",
   "execution_count": 89,
   "id": "d20e2156",
   "metadata": {},
   "outputs": [],
   "source": [
    "import tkinter as tk\n",
    "from tkinter import ttk\n",
    "\n",
    "def greet():\n",
    "    print(f\"Hello, {user_name.get() or 'World'}!\")\n",
    "    \n",
    "try:\n",
    "    from ctypes import wind11\n",
    "    wind11.shcore.SetProcessDpiAwereness(1)\n",
    "except:\n",
    "    pass    \n",
    "\n",
    "root = tk.Tk()\n",
    "root.title(\"Greeter\")\n",
    "\n",
    "root.columnconfigure(0, weight=1)\n",
    "\n",
    "user_name = tk.StringVar()\n",
    "\n",
    "input_frame = ttk.Frame(root, padding=(20, 10, 20, 0))\n",
    "input_frame.grid()\n",
    "\n",
    "\n",
    "name_label = ttk.Label(input_frame, text=\"Name: \")\n",
    "name_label.grid( padx=(0, 10))\n",
    "name_entry = ttk.Entry(input_frame, width=15, textvariable=user_name)\n",
    "name_entry.grid()\n",
    "\n",
    "buttons = ttk.Frame(root, padding=(20, 10))\n",
    "buttons.grid()\n",
    "\n",
    "root.columnconfigure(0, weight=1)\n",
    "root.columnconfigure(1, weight=1)\n",
    "\n",
    "greet_button = ttk.Button(root, text=\"Greet\", command=greet)\n",
    "greet_button.grid()\n",
    "quit_button = ttk.Button(root, text=\"Quit\", command=root.destroy)\n",
    "quit_button.grid()\n",
    "\n",
    "root.mainloop()"
   ]
  }
 ],
 "metadata": {
  "kernelspec": {
   "display_name": "Python 3 (ipykernel)",
   "language": "python",
   "name": "python3"
  },
  "language_info": {
   "codemirror_mode": {
    "name": "ipython",
    "version": 3
   },
   "file_extension": ".py",
   "mimetype": "text/x-python",
   "name": "python",
   "nbconvert_exporter": "python",
   "pygments_lexer": "ipython3",
   "version": "3.9.12"
  }
 },
 "nbformat": 4,
 "nbformat_minor": 5
}
