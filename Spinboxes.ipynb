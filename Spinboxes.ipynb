{
 "cells": [
  {
   "cell_type": "markdown",
   "id": "49ba36ca",
   "metadata": {},
   "source": [
    "### Spinboxes"
   ]
  },
  {
   "cell_type": "markdown",
   "id": "17208020",
   "metadata": {},
   "source": [
    "It is an entry of ‘Entry’ widget. Here, value can be input by selecting a fixed value of numbers.\n",
    "\n",
    "<b>Syntax:</b>\n",
    "* w = SpinBox(master, option=value)"
   ]
  },
  {
   "cell_type": "markdown",
   "id": "fdf445df",
   "metadata": {},
   "source": [
    "here are number of options which are used to change the format of the widget. Number of options can be passed as parameters separated by commas.\n",
    "* <b>bg:</b> to set he normal background color.\n",
    "* <b>bd:</b> to set the size of border around the indicator.\n",
    "* <b>cursor:</b> To appear the cursor when the mouse over the menubutton.\n",
    "* <b>command:</b> To call a function.\n",
    "* <b>width:</b> to set the width of the widget.\n",
    "* <b>activebackground:</b> To set the background when mouse is over the widget.\n",
    "* <b>disabledbackground:</b> To disable the background when mouse is over the widget.\n",
    "* <b>from_:</b> To set the value of one end of the range.\n",
    "* <b>to:</b> To set the value of the other end of the range."
   ]
  },
  {
   "cell_type": "code",
   "execution_count": 4,
   "id": "930448ed",
   "metadata": {},
   "outputs": [
    {
     "name": "stdout",
     "output_type": "stream",
     "text": [
      "20\n"
     ]
    }
   ],
   "source": [
    "import tkinter as tk\n",
    "from tkinter import ttk\n",
    "\n",
    "root = tk.Tk()\n",
    "root.geometry(\"600x400\")\n",
    "root.resizable(False, False)\n",
    "root.title(\"Spinboxes\")\n",
    "\n",
    "initial_value = tk.IntVar(value=20)\n",
    "spin_box = tk.Spinbox(root,\n",
    "                     from_=0,\n",
    "                     to = 30,\n",
    "                     textvariable=initial_value,\n",
    "                     wrap=False)\n",
    "spin_box.pack()\n",
    "\n",
    "print(spin_box.get())\n",
    "\n",
    "root.mainloop()"
   ]
  }
 ],
 "metadata": {
  "kernelspec": {
   "display_name": "Python 3 (ipykernel)",
   "language": "python",
   "name": "python3"
  },
  "language_info": {
   "codemirror_mode": {
    "name": "ipython",
    "version": 3
   },
   "file_extension": ".py",
   "mimetype": "text/x-python",
   "name": "python",
   "nbconvert_exporter": "python",
   "pygments_lexer": "ipython3",
   "version": "3.9.12"
  }
 },
 "nbformat": 4,
 "nbformat_minor": 5
}
