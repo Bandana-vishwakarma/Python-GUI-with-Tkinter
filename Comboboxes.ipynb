{
 "cells": [
  {
   "cell_type": "markdown",
   "id": "c2480b7b",
   "metadata": {},
   "source": [
    "### Comboboxes"
   ]
  },
  {
   "cell_type": "code",
   "execution_count": 4,
   "id": "66a72c36",
   "metadata": {},
   "outputs": [
    {
     "name": "stdout",
     "output_type": "stream",
     "text": [
      "Today is Tuesday\n",
      "But we're gonna change it to Friday.\n",
      "4\n",
      "Today is Saturday\n",
      "But we're gonna change it to Friday.\n",
      "4\n",
      "Today is Wednesday\n",
      "But we're gonna change it to Friday.\n",
      "4\n",
      "Today is Thursday\n",
      "But we're gonna change it to Friday.\n",
      "4\n",
      "Today is Friday\n",
      "But we're gonna change it to Friday.\n",
      "4\n",
      "Friday was selected\n"
     ]
    }
   ],
   "source": [
    "import tkinter as tk\n",
    "from tkinter import ttk\n",
    "\n",
    "root = tk.Tk()\n",
    "root.geometry(\"600x400\")\n",
    "root.resizable(False, False)\n",
    "root.title(\"Combo boxes\")\n",
    "\n",
    "selected_weekday = tk.StringVar()\n",
    "weekday = ttk.Combobox(root, textvariable=selected_weekday)\n",
    "weekday[\"values\"] = (\"Monday\", \"Tuesday\", \"Wednesday\", \"Thursday\", \"Friday\", \"Saturday\", \"Sunday\")\n",
    "weekday[\"state\"] = \"readonly\"\n",
    "weekday.pack()\n",
    "\n",
    "def handle_selection(event):\n",
    "    print(\"Today is\", selected_weekday.get())\n",
    "    print(\"But we're gonna change it to Friday.\")\n",
    "    selected_weekday.set(\"Friday\")\n",
    "    print(weekday.current())\n",
    "    \n",
    "weekday.bind(\"<<ComboboxSelected>>\", handle_selection)    \n",
    "\n",
    "root.mainloop()\n",
    "print(selected_weekday.get(), \"was selected\")"
   ]
  }
 ],
 "metadata": {
  "kernelspec": {
   "display_name": "Python 3 (ipykernel)",
   "language": "python",
   "name": "python3"
  },
  "language_info": {
   "codemirror_mode": {
    "name": "ipython",
    "version": 3
   },
   "file_extension": ".py",
   "mimetype": "text/x-python",
   "name": "python",
   "nbconvert_exporter": "python",
   "pygments_lexer": "ipython3",
   "version": "3.9.12"
  }
 },
 "nbformat": 4,
 "nbformat_minor": 5
}
