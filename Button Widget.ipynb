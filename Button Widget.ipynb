{
 "cells": [
  {
   "cell_type": "markdown",
   "id": "5c203f9e",
   "metadata": {},
   "source": [
    "### Button Widget"
   ]
  },
  {
   "cell_type": "markdown",
   "id": "f92dc53c",
   "metadata": {},
   "source": [
    "To add buttons in your application, this widget is used.\n",
    "\n",
    "There are number of options which are used to change the format of the Buttons. Number of options can be passed as parameters separated by commas.\n",
    "* <b>activebackground:</b> to set the background color when button is under the cursor.\n",
    "* <b>activeforeground:</b> to set the foreground color when button is under the cursor.\n",
    "* <b>bg:</b> to set he normal background color.\n",
    "* <b>command:</b> to call a function.\n",
    "* <b>font:</b> to set the font on the button label.\n",
    "* <b>image:</b> to set the image on the button.\n",
    "* <b>width:</b> to set the width of the button.\n",
    "* <b>height:</b> to set the height of the button."
   ]
  },
  {
   "cell_type": "markdown",
   "id": "171ef469",
   "metadata": {},
   "source": [
    "<b>syntax:</b>\n",
    "* w=Button(master, option=value)"
   ]
  },
  {
   "cell_type": "code",
   "execution_count": 3,
   "id": "57227073",
   "metadata": {},
   "outputs": [
    {
     "name": "stdout",
     "output_type": "stream",
     "text": [
      "Hello World!\n"
     ]
    }
   ],
   "source": [
    "#Buttons in Tkinter\n",
    "import tkinter as tk\n",
    "from tkinter import ttk\n",
    "\n",
    "def greet():\n",
    "    print(\"Hello World!\")\n",
    "\n",
    "root = tk.Tk()\n",
    "root.title(\"Main Window\")\n",
    "\n",
    "greet_button = ttk.Button(root, text=\"Greet\", command=greet).pack( side=\"left\", fill=\"y\", expand=True)\n",
    "quit_button = ttk.Button(root, text=\"Quit\", command=root.destroy).pack(side=\"left\", fill=\"y\", expand=True)\n",
    "\n",
    "root.mainloop()"
   ]
  }
 ],
 "metadata": {
  "kernelspec": {
   "display_name": "Python 3 (ipykernel)",
   "language": "python",
   "name": "python3"
  },
  "language_info": {
   "codemirror_mode": {
    "name": "ipython",
    "version": 3
   },
   "file_extension": ".py",
   "mimetype": "text/x-python",
   "name": "python",
   "nbconvert_exporter": "python",
   "pygments_lexer": "ipython3",
   "version": "3.9.12"
  }
 },
 "nbformat": 4,
 "nbformat_minor": 5
}
