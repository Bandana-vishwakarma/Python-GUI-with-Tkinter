{
 "cells": [
  {
   "cell_type": "markdown",
   "id": "780e4d11",
   "metadata": {},
   "source": [
    "### Text Widget\n"
   ]
  },
  {
   "cell_type": "markdown",
   "id": "e0382ba5",
   "metadata": {},
   "source": [
    "To edit a multi-line text and format the way it has to be displayed."
   ]
  },
  {
   "cell_type": "markdown",
   "id": "417fcb02",
   "metadata": {},
   "source": [
    "There are number of options which are used to change the format of the text. Number of options can be passed as parameters separated by commas.\n",
    "* <b>highlightcolor:</b> To set the color of the focus highlight when widget has to be focused.\n",
    "* <b>insertbackground:</b> To set the background of the widget.\n",
    "* <b>bg:</b> to set he normal background color.\n",
    "* <b>font:</b> to set the font on the button label.\n",
    "* <b>image:</b> to set the image on the widget.\n",
    "* <b>width:</b> to set the width of the widget.\n",
    "* <b>height:</b> to set the height of the widget."
   ]
  },
  {
   "cell_type": "code",
   "execution_count": 5,
   "id": "d64d26e9",
   "metadata": {},
   "outputs": [
    {
     "name": "stdout",
     "output_type": "stream",
     "text": [
      "Please enter a comment...\n",
      "\n"
     ]
    }
   ],
   "source": [
    "import tkinter as tk\n",
    "from tkinter import ttk\n",
    "\n",
    "root = tk.Tk()\n",
    "root.geometry(\"600x400\")\n",
    "root.title(\"Text widget\")\n",
    "root.resizable(False, False)\n",
    "\n",
    "text = tk.Text(root, height=8)\n",
    "text.pack()\n",
    "\n",
    "text.insert(\"1.0\", \"Please enter a comment...\")\n",
    "text[\"state\"] = \"normal\"  #\"disabled\"\n",
    "\n",
    "#the starting position is \"1.0\" and the ending position is \"end\"\n",
    "text_content = text.get(\"1.0\", \"end\")\n",
    "print(text_content)\n",
    "\n",
    "root.mainloop()"
   ]
  }
 ],
 "metadata": {
  "kernelspec": {
   "display_name": "Python 3 (ipykernel)",
   "language": "python",
   "name": "python3"
  },
  "language_info": {
   "codemirror_mode": {
    "name": "ipython",
    "version": 3
   },
   "file_extension": ".py",
   "mimetype": "text/x-python",
   "name": "python",
   "nbconvert_exporter": "python",
   "pygments_lexer": "ipython3",
   "version": "3.9.12"
  }
 },
 "nbformat": 4,
 "nbformat_minor": 5
}
