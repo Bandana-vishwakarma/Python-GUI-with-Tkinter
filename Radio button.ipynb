{
 "cells": [
  {
   "cell_type": "markdown",
   "id": "19e6d2aa",
   "metadata": {},
   "source": [
    "### Radio button"
   ]
  },
  {
   "cell_type": "markdown",
   "id": "ea02d69d",
   "metadata": {},
   "source": [
    "It is used to offer multi-choice option to the user. It offers several options to the user and the user has to choose one option.\n",
    "\n",
    "Createa radio button with ttk.Radiobutton(text, variable)\n",
    "\n",
    "Variable should be a tk.StringVar()\n",
    "\n",
    "If multiple radio buttons have the same variable they become a group. Only one can be checked in a group at a time.\n",
    "\n",
    "value determines what value the variable will take.\n",
    "\n",
    "<b>Syntax:</b>\n",
    "* w = RadioButton(master, option=value)"
   ]
  },
  {
   "cell_type": "markdown",
   "id": "065c0e81",
   "metadata": {},
   "source": [
    "There are number of options which are used to change the format of this widget. Number of options can be passed as parameters separated by commas.\n",
    "* <b>activebackground:</b> to set the background color when widget is under the cursor.\n",
    "* <b>activeforeground:</b> to set the foreground color when widget is under the cursor.\n",
    "* <b>bg:</b> to set he normal background color.    \n",
    "* <b>command:</b> to call a function.\n",
    "* <b>font:</b> to set the font on the button label.\n",
    "* <b>image:</b> to set the image on the widget.\n",
    "* <b>width:</b> to set the width of the label in characters.\n",
    "* <b>height:</b> to set the height of the label in characters.\n"
   ]
  },
  {
   "cell_type": "code",
   "execution_count": 2,
   "id": "ff587d68",
   "metadata": {},
   "outputs": [],
   "source": [
    "import tkinter as tk\n",
    "from tkinter import ttk\n",
    "\n",
    "root = tk.Tk()\n",
    "root.geometry(\"600x400\")\n",
    "root.resizable(False, False)\n",
    "root.title(\"Radio button\")\n",
    "\n",
    "storage_variable = tk.StringVar()\n",
    "\n",
    "option_one = ttk.Radiobutton(\n",
    "    root,\n",
    "    text=\"option_1\",\n",
    "    variable=storage_variable,\n",
    "    value=\"First option\")\n",
    "\n",
    "option_second = ttk.Radiobutton(\n",
    "    root,\n",
    "    text=\"option_2\",\n",
    "    variable=storage_variable,\n",
    "    value=\"Second option\")\n",
    "\n",
    "option_third = ttk.Radiobutton(\n",
    "    root,\n",
    "    text=\"option_3\",\n",
    "    variable=storage_variable,\n",
    "    value=\"Third option\")\n",
    "\n",
    "option_one.pack()\n",
    "option_second.pack()\n",
    "option_third.pack()\n",
    "\n",
    "root.mainloop()"
   ]
  }
 ],
 "metadata": {
  "kernelspec": {
   "display_name": "Python 3 (ipykernel)",
   "language": "python",
   "name": "python3"
  },
  "language_info": {
   "codemirror_mode": {
    "name": "ipython",
    "version": 3
   },
   "file_extension": ".py",
   "mimetype": "text/x-python",
   "name": "python",
   "nbconvert_exporter": "python",
   "pygments_lexer": "ipython3",
   "version": "3.9.12"
  }
 },
 "nbformat": 4,
 "nbformat_minor": 5
}
