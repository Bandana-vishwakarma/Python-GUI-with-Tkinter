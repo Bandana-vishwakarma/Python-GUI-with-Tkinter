{
 "cells": [
  {
   "cell_type": "markdown",
   "id": "d2bacab5",
   "metadata": {},
   "source": [
    "### List Box"
   ]
  },
  {
   "cell_type": "markdown",
   "id": "90d5bf26",
   "metadata": {},
   "source": [
    "It offers a list to the user from which the user can accept any number of options.\n",
    "\n",
    "<b>Syntax:</b>\n",
    "* w = Listbox(master, option=value)"
   ]
  },
  {
   "cell_type": "markdown",
   "id": "cad2f366",
   "metadata": {},
   "source": [
    "There are number of options which are used to change the format of the widget. Number of options can be passed as parameters separated by commas.\n",
    "* <b>highlightcolor:</b> To set the color of the focus highlight when widget has to be focused.\n",
    "* <b>bg:</b> to set he normal background color.\n",
    "* <b>bd:</b> to set the border width in pixels.\n",
    "* <b>font:</b> to set the font on the button label.\n",
    "* <b>image:</b> to set the image on the widget.\n",
    "* <b>width:</b> to set the width of the widget.\n",
    "* <b>height:</b> to set the height of the widget."
   ]
  },
  {
   "cell_type": "code",
   "execution_count": 9,
   "id": "80d63422",
   "metadata": {},
   "outputs": [
    {
     "name": "stdout",
     "output_type": "stream",
     "text": [
      "java\n",
      "python\n",
      "c++\n",
      "c++\n",
      "css\n",
      "c\n",
      "c\n",
      "java\n",
      "c\n",
      "java\n",
      "python\n",
      "c\n",
      "java\n",
      "python\n",
      "c++\n",
      "c\n",
      "java\n",
      "python\n",
      "c++\n",
      "html\n",
      "c\n",
      "java\n",
      "python\n",
      "c++\n",
      "html\n",
      "css\n"
     ]
    }
   ],
   "source": [
    "import tkinter as tk\n",
    "from tkinter import ttk\n",
    "\n",
    "root = tk.Tk()\n",
    "root.geometry(\"600x400\")\n",
    "root.resizable(False, False)\n",
    "root.title(\"List boxes\")\n",
    "\n",
    "programming_languages = (\"c\",\"java\", \"python\", \"c++\", \"html\", \"css\")\n",
    "\n",
    "langs = tk.StringVar(value=programming_languages)\n",
    "langs_select = tk.Listbox(root, listvariable=langs, height=6)\n",
    "langs_select[\"selectmode\"] = \"extended\" #\"browse\"\n",
    "langs_select.pack()\n",
    "\n",
    "def handle_selection_change(event):\n",
    "    selected_indices = langs_select.curselection()\n",
    "    for i in selected_indices:\n",
    "        print(langs_select.get(i))\n",
    "\n",
    "langs_select.bind(\"<<ListboxSelect>>\", handle_selection_change)\n",
    "\n",
    "root.mainloop()"
   ]
  }
 ],
 "metadata": {
  "kernelspec": {
   "display_name": "Python 3 (ipykernel)",
   "language": "python",
   "name": "python3"
  },
  "language_info": {
   "codemirror_mode": {
    "name": "ipython",
    "version": 3
   },
   "file_extension": ".py",
   "mimetype": "text/x-python",
   "name": "python",
   "nbconvert_exporter": "python",
   "pygments_lexer": "ipython3",
   "version": "3.9.12"
  }
 },
 "nbformat": 4,
 "nbformat_minor": 5
}
