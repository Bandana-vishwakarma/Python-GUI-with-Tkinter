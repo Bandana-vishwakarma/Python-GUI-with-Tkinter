{
 "cells": [
  {
   "cell_type": "markdown",
   "id": "47081531",
   "metadata": {},
   "source": [
    "### Separator"
   ]
  },
  {
   "cell_type": "markdown",
   "id": "de9d3240",
   "metadata": {},
   "source": [
    "Create a separator with <b>ttk.Separator(orient)</b>\n",
    "\n",
    "Orient can be <b>vertical</b> or <b>horizontal</b>\n",
    "\n",
    "By default, separator are 1px in size.Remember to set the <b>fill</b> or <b>sticky</b> property to adjust their size."
   ]
  },
  {
   "cell_type": "code",
   "execution_count": 3,
   "id": "2dff6cbc",
   "metadata": {},
   "outputs": [],
   "source": [
    "import tkinter as tk\n",
    "from tkinter import ttk\n",
    "\n",
    "root = tk.Tk()\n",
    "root.geometry(\"600x400\")\n",
    "root.resizable(False, False)\n",
    "root.title(\"Separator\")\n",
    "\n",
    "root.grid_columnconfigure(0, weight=1)\n",
    "root.grid_rowconfigure(0, weight=1)\n",
    "\n",
    "ttk.Label(root, text=\"Hello World!\", padding=20).pack()\n",
    "\n",
    "ttk.Separator(root, orient=\"horizontal\").pack(fill=\"x\")\n",
    "\n",
    "ttk.Label(root, text=\"Hello World!\", padding=20).pack()\n",
    "\n",
    "root.mainloop()"
   ]
  }
 ],
 "metadata": {
  "kernelspec": {
   "display_name": "Python 3 (ipykernel)",
   "language": "python",
   "name": "python3"
  },
  "language_info": {
   "codemirror_mode": {
    "name": "ipython",
    "version": 3
   },
   "file_extension": ".py",
   "mimetype": "text/x-python",
   "name": "python",
   "nbconvert_exporter": "python",
   "pygments_lexer": "ipython3",
   "version": "3.9.12"
  }
 },
 "nbformat": 4,
 "nbformat_minor": 5
}
