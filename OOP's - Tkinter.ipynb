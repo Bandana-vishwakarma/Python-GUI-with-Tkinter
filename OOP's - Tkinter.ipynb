{
 "cells": [
  {
   "cell_type": "markdown",
   "id": "1f1e8f51",
   "metadata": {},
   "source": [
    "### Object Oriented Programming with tkinter"
   ]
  },
  {
   "cell_type": "markdown",
   "id": "d24f98c8",
   "metadata": {},
   "source": [
    "<b>Creating a class for our application window</b>"
   ]
  },
  {
   "cell_type": "code",
   "execution_count": 1,
   "id": "1553265c",
   "metadata": {},
   "outputs": [],
   "source": [
    "import tkinter as tk\n",
    "from tkinter import ttk\n",
    "\n",
    "class HelloWorld(tk.Tk):\n",
    "    def __init__(self):\n",
    "        super().__init__()\n",
    "        \n",
    "        self.title(\"Hello world\")\n",
    "        ttk.Label(self, text=\"Hello World\").pack()\n",
    "    \n",
    "\n",
    "root = HelloWorld()\n",
    "\n",
    "root.mainloop()"
   ]
  },
  {
   "cell_type": "markdown",
   "id": "82617c8d",
   "metadata": {},
   "source": [
    "<b>An object oriented Frame</b>"
   ]
  },
  {
   "cell_type": "code",
   "execution_count": 6,
   "id": "99fdac50",
   "metadata": {},
   "outputs": [
    {
     "name": "stdout",
     "output_type": "stream",
     "text": [
      "Hello, \n",
      "Hello, fgvbc \n"
     ]
    }
   ],
   "source": [
    "import tkinter as tk\n",
    "from tkinter import ttk\n",
    "\n",
    "class UserInputFrame(ttk.Frame):\n",
    "    def __init__(self, container):\n",
    "        super().__init__(container)\n",
    "        \n",
    "        self.user_input = tk.StringVar()\n",
    "        \n",
    "        label = ttk.Label(self, text=\"Enter your name:\")\n",
    "        entry = ttk.Entry(self, textvariable=self.user_input)\n",
    "        button = ttk.Button(self, text=\"Greet\", command=self.greet)\n",
    "        \n",
    "        label.pack(side=\"left\")\n",
    "        entry.pack(side=\"left\")\n",
    "        button.pack(side=\"left\")\n",
    "        \n",
    "    def greet(self):\n",
    "        print(f\"Hello, {self.user_input.get()}\")\n",
    "\n",
    "root = tk.Tk()\n",
    "\n",
    "frame = UserInputFrame(root)\n",
    "frame.pack()\n",
    "\n",
    "root.mainloop()"
   ]
  },
  {
   "cell_type": "markdown",
   "id": "fc65bb74",
   "metadata": {},
   "source": [
    "<b>Finishing our object oriented Hello World app</b>"
   ]
  },
  {
   "cell_type": "code",
   "execution_count": 9,
   "id": "7e56692a",
   "metadata": {},
   "outputs": [
    {
     "name": "stdout",
     "output_type": "stream",
     "text": [
      "Hello, app\n"
     ]
    }
   ],
   "source": [
    "import tkinter as tk\n",
    "from tkinter import ttk\n",
    "\n",
    "class HelloWorld(tk.Tk):\n",
    "    def __init__(self):\n",
    "        super().__init__()\n",
    "        \n",
    "        self.title(\"Hello World\")\n",
    "        \n",
    "        UserInputFrame(self).pack()\n",
    "        \n",
    "\n",
    "class UserInputFrame(ttk.Frame):\n",
    "    def __init__(self, container):\n",
    "        super().__init__(container)\n",
    "        \n",
    "        self.user_input = tk.StringVar()\n",
    "        \n",
    "        label = ttk.Label(self, text=\"Enter your name:\")\n",
    "        entry = ttk.Entry(self, textvariable=self.user_input)\n",
    "        button = ttk.Button(self, text=\"Greet\", command=self.greet)\n",
    "        \n",
    "        label.pack(side=\"left\")\n",
    "        entry.pack(side=\"left\")\n",
    "        button.pack(side=\"left\")\n",
    "        \n",
    "    def greet(self):\n",
    "        print(f\"Hello, {self.user_input.get()}\")\n",
    "\n",
    "root = HelloWorld()\n",
    "root.mainloop()"
   ]
  }
 ],
 "metadata": {
  "kernelspec": {
   "display_name": "Python 3 (ipykernel)",
   "language": "python",
   "name": "python3"
  },
  "language_info": {
   "codemirror_mode": {
    "name": "ipython",
    "version": 3
   },
   "file_extension": ".py",
   "mimetype": "text/x-python",
   "name": "python",
   "nbconvert_exporter": "python",
   "pygments_lexer": "ipython3",
   "version": "3.9.12"
  }
 },
 "nbformat": 4,
 "nbformat_minor": 5
}
