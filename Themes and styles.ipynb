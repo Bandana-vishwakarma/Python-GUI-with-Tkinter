{
 "cells": [
  {
   "cell_type": "markdown",
   "id": "49520f2c",
   "metadata": {},
   "source": [
    "<b>Tkinter Themes and how to change themes</b>"
   ]
  },
  {
   "cell_type": "code",
   "execution_count": 10,
   "id": "27b0a11b",
   "metadata": {},
   "outputs": [
    {
     "name": "stdout",
     "output_type": "stream",
     "text": [
      "('winnative', 'clam', 'alt', 'default', 'classic', 'vista', 'xpnative')\n",
      "None\n"
     ]
    }
   ],
   "source": [
    "import tkinter as tk\n",
    "from tkinter import ttk\n",
    "\n",
    "def greet(*args):\n",
    "    print(f\"hello, {user_name.get()}\")\n",
    "\n",
    "root = tk.Tk()\n",
    "root.resizable(False, False)\n",
    "root.title(\"Greet\")\n",
    "\n",
    "main = ttk.Frame(root, padding=(40, 20))\n",
    "main.grid()\n",
    "\n",
    "style = ttk.Style(root)\n",
    "\n",
    "print(style.theme_names())\n",
    "print(style.theme_use(\"clam\"))\n",
    "\n",
    "user_name = tk.StringVar()\n",
    "\n",
    "name_label = ttk.Label(main, text=\"Name:\")\n",
    "name_label.grid(row=0, column=0, padx=(0, 10))\n",
    "\n",
    "name_entry = ttk.Entry(main, width=15, textvariable=user_name)\n",
    "name_entry.grid(row=0, column=1, padx=10)\n",
    "name_entry.focus()\n",
    "\n",
    "greet_button = ttk.Button(main, text=\"Greet\", command=greet)\n",
    "greet_button.grid(row=0, column=2, sticky=\"EW\", padx=10)\n",
    "\n",
    "root.mainloop()"
   ]
  },
  {
   "cell_type": "markdown",
   "id": "31b27d43",
   "metadata": {},
   "source": [
    "<b>Finding a tkinter widgets style class</b>"
   ]
  },
  {
   "cell_type": "code",
   "execution_count": 11,
   "id": "6cc5f5fb",
   "metadata": {},
   "outputs": [
    {
     "name": "stdout",
     "output_type": "stream",
     "text": [
      "TLabel\n"
     ]
    }
   ],
   "source": [
    "import tkinter as tk\n",
    "from tkinter import ttk\n",
    "\n",
    "root = tk.Tk()\n",
    "style = ttk.Style(root)\n",
    "\n",
    "name = ttk.Label(root, text=\"hello world\")\n",
    "entry = ttk.Entry(root, width=15)\n",
    "name.pack()\n",
    "\n",
    "print(name.winfo_class())\n",
    "\n",
    "root.mainloop()"
   ]
  },
  {
   "cell_type": "markdown",
   "id": "ccd22d1b",
   "metadata": {},
   "source": [
    "<b>How to change and configure a Tkinter style</b>"
   ]
  },
  {
   "cell_type": "code",
   "execution_count": 15,
   "id": "c1a4b64a",
   "metadata": {},
   "outputs": [],
   "source": [
    "import tkinter as tk\n",
    "from tkinter import ttk\n",
    "\n",
    "root = tk.Tk()\n",
    "style = ttk.Style(root)\n",
    "\n",
    "name = ttk.Label(root, text=\"hello world\")\n",
    "entry = ttk.Entry(root, width=15)\n",
    "name.pack()\n",
    "\n",
    "style.configure(\"TLabel\", font=(\"Segoe UI\", 20))\n",
    "\n",
    "root.mainloop()"
   ]
  },
  {
   "cell_type": "markdown",
   "id": "c5f08a14",
   "metadata": {},
   "source": [
    "<b>What element properties can we style</b>"
   ]
  },
  {
   "cell_type": "code",
   "execution_count": 27,
   "id": "31583a2a",
   "metadata": {
    "scrolled": true
   },
   "outputs": [
    {
     "name": "stdout",
     "output_type": "stream",
     "text": [
      "[('Label.border', {'sticky': 'nswe', 'border': '1', 'children': [('Label.padding', {'sticky': 'nswe', 'border': '1', 'children': [('Label.label', {'sticky': 'nswe'})]})]})]\n",
      "('relief',)\n",
      "('padding', 'relief', 'shiftrelief')\n",
      "('compound', 'space', 'text', 'font', 'foreground', 'underline', 'width', 'anchor', 'justify', 'wraplength', 'embossed', 'image', 'stipple', 'background')\n",
      "TkDefaultFont\n",
      "SystemWindowText\n",
      "\n",
      "[('Label.border', {'sticky': 'nswe', 'border': '1', 'children': [('Label.padding', {'sticky': 'nswe', 'border': '1', 'children': [('Label.label', {'sticky': 'nswe'})]})]})]\n",
      "('bordercolor', 'lightcolor', 'darkcolor', 'relief', 'borderwidth')\n",
      "('padding', 'relief', 'shiftrelief')\n",
      "('compound', 'space', 'text', 'font', 'foreground', 'underline', 'width', 'anchor', 'justify', 'wraplength', 'embossed', 'image', 'stipple', 'background')\n",
      "TkDefaultFont\n",
      "black\n",
      "\n"
     ]
    }
   ],
   "source": [
    "import tkinter as tk\n",
    "from tkinter import ttk\n",
    "\n",
    "root = tk.Tk()\n",
    "style = ttk.Style(root)\n",
    "\n",
    "name = ttk.Label(root, text=\"hello world\")\n",
    "name.pack()\n",
    "\n",
    "print(style.layout(\"TLabel\"))\n",
    "\n",
    "print(style.element_options(\"Label.border\"))\n",
    "print(style.element_options(\"Label.padding\"))\n",
    "print(style.element_options(\"Label.label\"))\n",
    "\n",
    "print(style.lookup(\"TLabel\", \"font\"))\n",
    "print(style.lookup(\"TLabel\", \"foreground\"))\n",
    "print(style.lookup(\"TLabel\", \"compound\"))\n",
    "\n",
    "style.theme_use(\"clam\")\n",
    "\n",
    "print(style.layout(\"TLabel\"))\n",
    "\n",
    "print(style.element_options(\"Label.border\"))\n",
    "print(style.element_options(\"Label.padding\"))\n",
    "print(style.element_options(\"Label.label\"))\n",
    "\n",
    "print(style.lookup(\"TLabel\", \"font\"))\n",
    "print(style.lookup(\"TLabel\", \"foreground\"))\n",
    "print(style.lookup(\"TLabel\", \"compound\"))\n",
    "\n",
    "style.configure(\"TLabel\", bordercolor=\"green\")\n",
    "style.configure(\"TLabel\", borderwidth=20)\n",
    "style.configure(\"Tlabel\", relief=\"solid\")\n",
    "\n",
    "root.mainloop()"
   ]
  },
  {
   "cell_type": "markdown",
   "id": "44e9ab2f",
   "metadata": {},
   "source": [
    "<b>Creating new inherited styles</b>"
   ]
  },
  {
   "cell_type": "code",
   "execution_count": 30,
   "id": "d71736f6",
   "metadata": {},
   "outputs": [],
   "source": [
    "import tkinter as tk\n",
    "from tkinter import ttk\n",
    "\n",
    "root = tk.Tk()\n",
    "style = ttk.Style(root)\n",
    "\n",
    "style.configure(\"CustomEntryStyle.TEntry\", padding=20)\n",
    "\n",
    "name = ttk.Label(root, text=\"hello world\")\n",
    "entry = ttk.Entry(root, width=15)\n",
    "entry[\"style\"] = \"CustomEntryStyle.TEntry\"\n",
    "name.pack()\n",
    "entry.pack()\n",
    "\n",
    "entry1 = ttk.Entry(root, width=15, style=\"CustomEntryStyle.TEntry\")\n",
    "entry1.pack()\n",
    "\n",
    "root.mainloop()"
   ]
  },
  {
   "cell_type": "markdown",
   "id": "a31cc43f",
   "metadata": {},
   "source": [
    "<b>State-specific options for styles</b>"
   ]
  },
  {
   "cell_type": "code",
   "execution_count": 38,
   "id": "357de03d",
   "metadata": {},
   "outputs": [],
   "source": [
    "import tkinter as tk\n",
    "from tkinter import ttk\n",
    "\n",
    "root = tk.Tk()\n",
    "style = ttk.Style(root)\n",
    "\n",
    "style.map(\"CustomButtonStyle.TButton\", \n",
    "          foreground=[(\"pressed\", \"red\"), (\"active\", \"green\")],\n",
    "          background=[(\"pressed\", \"!disabled\", \"black\"), (\"active\", \"black\")],\n",
    "          font=[(\"pressed\", (\"TkDefaultFont\", 15))])\n",
    "\n",
    "name = ttk.Label(root, text=\"hello world\")\n",
    "entry = ttk.Entry(root, width=15)\n",
    "button = ttk.Button(root, text=\"Press me.\", style=\"CustomButtonStyle.TButton\")\n",
    "\n",
    "name.pack()\n",
    "entry.pack()\n",
    "button.pack()\n",
    "\n",
    "root.mainloop()"
   ]
  },
  {
   "cell_type": "markdown",
   "id": "d2e2dc18",
   "metadata": {},
   "source": [
    "<b>Changing entry field fonts</b>"
   ]
  },
  {
   "cell_type": "code",
   "execution_count": 47,
   "id": "4d6aeb48",
   "metadata": {},
   "outputs": [],
   "source": [
    "import tkinter as tk\n",
    "from tkinter import ttk\n",
    "import tkinter.font as font\n",
    "\n",
    "root = tk.Tk()\n",
    "style = ttk.Style(root)\n",
    "\n",
    "\n",
    "font.nametofont(\"TkDefaultFont\").configure(size=15)\n",
    "font.nametofont(\"TkTextFont\").configure(size=15)\n",
    "\n",
    "name = ttk.Label(root, text=\"hello world\")\n",
    "entry = ttk.Entry(root, width=15, font=(\"TkDefaultFont\", 15))\n",
    "button = ttk.Button(root, text=\"Press me.\", style=\"CustomButtonStyle.TButton\")\n",
    "\n",
    "name.pack()\n",
    "entry.pack()\n",
    "button.pack()\n",
    "\n",
    "root.mainloop()"
   ]
  },
  {
   "cell_type": "markdown",
   "id": "f9986423",
   "metadata": {},
   "source": [
    "<b>Named Fonts</b>"
   ]
  },
  {
   "cell_type": "code",
   "execution_count": 52,
   "id": "c60aa4f7",
   "metadata": {},
   "outputs": [
    {
     "name": "stdout",
     "output_type": "stream",
     "text": [
      "('System', '8514oem', 'Fixedsys', 'Terminal', 'Modern', 'Roman', 'Script', 'Courier', 'MS Serif', 'MS Sans Serif', 'Small Fonts', 'Marlett', 'Arial', 'Arabic Transparent', 'Arial Baltic', 'Arial CE', 'Arial CYR', 'Arial Greek', 'Arial TUR', 'Arial Black', 'Bahnschrift Light', 'Bahnschrift SemiLight', 'Bahnschrift', 'Bahnschrift SemiBold', 'Bahnschrift Light SemiCondensed', 'Bahnschrift SemiLight SemiConde', 'Bahnschrift SemiCondensed', 'Bahnschrift SemiBold SemiConden', 'Bahnschrift Light Condensed', 'Bahnschrift SemiLight Condensed', 'Bahnschrift Condensed', 'Bahnschrift SemiBold Condensed', 'Calibri', 'Calibri Light', 'Cambria', 'Cambria Math', 'Candara', 'Candara Light', 'Comic Sans MS', 'Consolas', 'Constantia', 'Corbel', 'Corbel Light', 'Courier New', 'Courier New Baltic', 'Courier New CE', 'Courier New CYR', 'Courier New Greek', 'Courier New TUR', 'Ebrima', 'Franklin Gothic Medium', 'Gabriola', 'Gadugi', 'Georgia', 'Impact', 'Ink Free', 'Javanese Text', 'Leelawadee UI', 'Leelawadee UI Semilight', 'Lucida Console', 'Lucida Sans Unicode', 'Malgun Gothic', '@Malgun Gothic', 'Malgun Gothic Semilight', '@Malgun Gothic Semilight', 'Microsoft Himalaya', 'Microsoft JhengHei', '@Microsoft JhengHei', 'Microsoft JhengHei UI', '@Microsoft JhengHei UI', 'Microsoft JhengHei Light', '@Microsoft JhengHei Light', 'Microsoft JhengHei UI Light', '@Microsoft JhengHei UI Light', 'Microsoft New Tai Lue', 'Microsoft PhagsPa', 'Microsoft Sans Serif', 'Microsoft Tai Le', 'Microsoft YaHei', '@Microsoft YaHei', 'Microsoft YaHei UI', '@Microsoft YaHei UI', 'Microsoft YaHei Light', '@Microsoft YaHei Light', 'Microsoft YaHei UI Light', '@Microsoft YaHei UI Light', 'Microsoft Yi Baiti', 'MingLiU-ExtB', '@MingLiU-ExtB', 'PMingLiU-ExtB', '@PMingLiU-ExtB', 'MingLiU_HKSCS-ExtB', '@MingLiU_HKSCS-ExtB', 'Mongolian Baiti', 'MS Gothic', '@MS Gothic', 'MS UI Gothic', '@MS UI Gothic', 'MS PGothic', '@MS PGothic', 'MV Boli', 'Myanmar Text', 'Nirmala UI', 'Nirmala UI Semilight', 'Palatino Linotype', 'Sans Serif Collection', 'Segoe Fluent Icons', 'Segoe MDL2 Assets', 'Segoe Print', 'Segoe Script', 'Segoe UI', 'Segoe UI Black', 'Segoe UI Emoji', 'Segoe UI Historic', 'Segoe UI Light', 'Segoe UI Semibold', 'Segoe UI Semilight', 'Segoe UI Symbol', 'Segoe UI Variable Small Light', 'Segoe UI Variable Small Semilig', 'Segoe UI Variable Small', 'Segoe UI Variable Small Semibol', 'Segoe UI Variable Text Light', 'Segoe UI Variable Text Semiligh', 'Segoe UI Variable Text', 'Segoe UI Variable Text Semibold', 'Segoe UI Variable Display Light', 'Segoe UI Variable Display Semil', 'Segoe UI Variable Display', 'Segoe UI Variable Display Semib', 'SimSun', '@SimSun', 'NSimSun', '@NSimSun', 'SimSun-ExtB', '@SimSun-ExtB', 'Sitka Small', 'Sitka Small Semibold', 'Sitka Text', 'Sitka Text Semibold', 'Sitka Subheading', 'Sitka Subheading Semibold', 'Sitka Heading', 'Sitka Heading Semibold', 'Sitka Display', 'Sitka Display Semibold', 'Sitka Banner', 'Sitka Banner Semibold', 'Sylfaen', 'Symbol', 'Tahoma', 'Times New Roman', 'Times New Roman Baltic', 'Times New Roman CE', 'Times New Roman CYR', 'Times New Roman Greek', 'Times New Roman TUR', 'Trebuchet MS', 'Verdana', 'Webdings', 'Wingdings', 'Yu Gothic', '@Yu Gothic', 'Yu Gothic UI', '@Yu Gothic UI', 'Yu Gothic UI Semibold', '@Yu Gothic UI Semibold', 'Yu Gothic Light', '@Yu Gothic Light', 'Yu Gothic UI Light', '@Yu Gothic UI Light', 'Yu Gothic Medium', '@Yu Gothic Medium', 'Yu Gothic UI Semilight', '@Yu Gothic UI Semilight', 'HoloLens MDL2 Assets', 'HP Simplified', 'HP Simplified Light', 'HP Simplified Jpan Light', '@HP Simplified Jpan Light', 'HP Simplified Jpan', '@HP Simplified Jpan', 'HP Simplified Hans Light', '@HP Simplified Hans Light', 'HP Simplified Hans', '@HP Simplified Hans', 'Cascadia Code ExtraLight', 'Cascadia Code Light', 'Cascadia Code SemiLight', 'Cascadia Code', 'Cascadia Code SemiBold', 'Cascadia Mono ExtraLight', 'Cascadia Mono Light', 'Cascadia Mono SemiLight', 'Cascadia Mono', 'Cascadia Mono SemiBold')\n"
     ]
    }
   ],
   "source": [
    "import tkinter as tk\n",
    "from tkinter import ttk\n",
    "import tkinter.font as font\n",
    "\n",
    "root = tk.Tk()\n",
    "style = ttk.Style(root)\n",
    "print(font.families())\n",
    "\n",
    "warningLabelFont = font.nametofont(\"TkDefaultFont\").copy()\n",
    "warningLabelFont.configure(size=14)\n",
    "\n",
    "\n",
    "name = ttk.Label(root, text=\"hello world\", font=warningLabelFont)\n",
    "entry = ttk.Entry(root, width=15, font=(\"TkDefaultFont\", 15))\n",
    "button = ttk.Button(root, text=\"Press me.\", style=\"CustomButtonStyle.TButton\")\n",
    "\n",
    "name.pack()\n",
    "entry.pack()\n",
    "button.pack()\n",
    "\n",
    "root.mainloop()"
   ]
  }
 ],
 "metadata": {
  "kernelspec": {
   "display_name": "Python 3 (ipykernel)",
   "language": "python",
   "name": "python3"
  },
  "language_info": {
   "codemirror_mode": {
    "name": "ipython",
    "version": 3
   },
   "file_extension": ".py",
   "mimetype": "text/x-python",
   "name": "python",
   "nbconvert_exporter": "python",
   "pygments_lexer": "ipython3",
   "version": "3.9.12"
  }
 },
 "nbformat": 4,
 "nbformat_minor": 5
}
