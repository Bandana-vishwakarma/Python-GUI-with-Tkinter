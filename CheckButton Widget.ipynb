{
 "cells": [
  {
   "cell_type": "markdown",
   "id": "a72d50ec",
   "metadata": {},
   "source": [
    "### CheckButton"
   ]
  },
  {
   "cell_type": "markdown",
   "id": "043ab085",
   "metadata": {},
   "source": [
    "To select any number of options by displaying a number of options to a user as toggle buttons.\n",
    "\n",
    "Create a check button with ttk.Checkbutton(text, variable)\n",
    "\n",
    "variable should be tk.StringVar()\n",
    "\n",
    "Can attach a command, a function that runs when the button is checked or unchecked.\n",
    "\n",
    "onvalue or offvalue determine what value the varieble will take.\n",
    "\n",
    "There are number of options which are used to change the format of this widget. Number of options can be passed as parameters separated by commas. \n",
    "* <b>Title:</b> To set the title of the widget.\n",
    "* <b>activebackground:</b> to set the background color when widget is under the cursor.\n",
    "* <b>activeforeground:</b> to set the foreground color when widget is under the cursor.\n",
    "* <b>bg:</b> to set he normal backgrouSteganography Break\n",
    "\n",
    "<b>Secret Code:\n",
    "   Attach a File:nd color.</b>\n",
    "* <b>command:</b> to call a function.\n",
    "* <b>font:</b> to set the font on the button label.\n",
    "* <b>image:</b> to set the image on the widget.    "
   ]
  },
  {
   "cell_type": "code",
   "execution_count": 11,
   "id": "e8f1cd36",
   "metadata": {},
   "outputs": [
    {
     "name": "stdout",
     "output_type": "stream",
     "text": [
      "On\n",
      "off\n"
     ]
    }
   ],
   "source": [
    "import tkinter as tk\n",
    "from tkinter import ttk\n",
    "\n",
    "root = tk.Tk()\n",
    "root.geometry(\"600x400\")\n",
    "root.resizable(False, False)\n",
    "root.title(\"CheckButton\")\n",
    "\n",
    "selected_option = tk.StringVar()\n",
    "\n",
    "def print_current_option():\n",
    "    print(selected_option.get())\n",
    "    \n",
    "check = ttk.Checkbutton(root, \n",
    "                        text=\"check me!\", \n",
    "                        variable=selected_option, \n",
    "                        command=print_current_option,\n",
    "                        onvalue=\"On\", offvalue=\"off\")    \n",
    "check.pack()\n",
    "\n",
    "root.mainloop()"
   ]
  },
  {
   "cell_type": "code",
   "execution_count": null,
   "id": "b6635e17",
   "metadata": {},
   "outputs": [],
   "source": []
  }
 ],
 "metadata": {
  "kernelspec": {
   "display_name": "Python 3 (ipykernel)",
   "language": "python",
   "name": "python3"
  },
  "language_info": {
   "codemirror_mode": {
    "name": "ipython",
    "version": 3
   },
   "file_extension": ".py",
   "mimetype": "text/x-python",
   "name": "python",
   "nbconvert_exporter": "python",
   "pygments_lexer": "ipython3",
   "version": "3.9.12"
  }
 },
 "nbformat": 4,
 "nbformat_minor": 5
}
