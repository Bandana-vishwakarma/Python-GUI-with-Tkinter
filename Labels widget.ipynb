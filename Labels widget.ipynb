{
 "cells": [
  {
   "cell_type": "markdown",
   "id": "f7d19048",
   "metadata": {},
   "source": [
    "### Label Widget"
   ]
  },
  {
   "cell_type": "markdown",
   "id": "0ce23f00",
   "metadata": {},
   "source": [
    "It refers to the display box where you can put any text or image which can be updated any time as per the code.\n",
    "\n",
    "<b>Syntax:</b>\n",
    "* w=Label(master, option=value)\n",
    "\n",
    "There are number of options which are used to change the format of the widget. Number of options can be passed as parameters separated by commas.\n",
    "* <b>bg:</b> to set he normal background color.\n",
    "* <b>command:</b> to call a function.\n",
    "* <b>font:</b> to set the font on the button label.\n",
    "* <b>image:</b> to set the image on the button.\n",
    "* <b>width:</b> to set the width of the button.\n",
    "* <b>height:<b> to set the height of the button."
   ]
  },
  {
   "cell_type": "code",
   "execution_count": 6,
   "id": "04f112b6",
   "metadata": {},
   "outputs": [],
   "source": [
    "import tkinter as tk\n",
    "from tkinter import ttk\n",
    "from PIL import Image, ImageTk\n",
    "\n",
    "root = tk.Tk()\n",
    "root.geometry(\"600x400\")\n",
    "root.resizable(False, False)\n",
    "root.title(\"Label widget\")\n",
    "\n",
    "label = ttk.Label(root, text=\"Hello World!\", padding=20)\n",
    "\n",
    "#Change a label's font\n",
    "label.config(fon=(\"Segoe UI\", 20))\n",
    "label.pack()\n",
    "\n",
    "root.mainloop()"
   ]
  },
  {
   "cell_type": "code",
   "execution_count": 9,
   "id": "13a81efd",
   "metadata": {},
   "outputs": [],
   "source": [
    "#add an image by first opening it\n",
    "import tkinter as tk\n",
    "from tkinter import ttk\n",
    "from PIL import Image, ImageTk\n",
    "\n",
    "root = tk.Tk()\n",
    "root.geometry(\"600x400\")\n",
    "root.resizable(False, False)\n",
    "root.title(\"Label widget\")\n",
    "\n",
    "image = Image.open(\"Matplotlib.png\").resize((64, 64))\n",
    "photo = ImageTk.PhotoImage(image)\n",
    "label = ttk.Label(root, text=\"Hello World!\", image=photo, padding=5, compound=\"top\")\n",
    "label.pack()\n",
    "\n",
    "root.mainloop()"
   ]
  }
 ],
 "metadata": {
  "kernelspec": {
   "display_name": "Python 3 (ipykernel)",
   "language": "python",
   "name": "python3"
  },
  "language_info": {
   "codemirror_mode": {
    "name": "ipython",
    "version": 3
   },
   "file_extension": ".py",
   "mimetype": "text/x-python",
   "name": "python",
   "nbconvert_exporter": "python",
   "pygments_lexer": "ipython3",
   "version": "3.9.12"
  }
 },
 "nbformat": 4,
 "nbformat_minor": 5
}
