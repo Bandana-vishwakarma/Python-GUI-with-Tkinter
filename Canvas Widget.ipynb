{
 "cells": [
  {
   "cell_type": "markdown",
   "id": "8b9722e1",
   "metadata": {},
   "source": [
    "### Canvas Widget"
   ]
  },
  {
   "cell_type": "markdown",
   "id": "5b5c27a0",
   "metadata": {},
   "source": [
    "It is used to draw pictures and other complex layout like graphics, text and widgets.\n",
    "\n",
    "There are number of options which are used to change the format of the widget. Number of options can be passed as parameters separated by commas.\n",
    "* <b>bd:</b> to set the border width in pixels.\n",
    "* <b>bg:</b> to set the normal background color.\n",
    "* <b>cursor:</b> to set the cursor used in the canvas.\n",
    "* <b>highlightcolor:</b> to set the color shown in the focus highlight.\n",
    "* <b>width:</b> to set the width of the widget.\n",
    "* <b>height:</b> to set the height of the widget."
   ]
  },
  {
   "cell_type": "markdown",
   "id": "2a9471c2",
   "metadata": {},
   "source": [
    "<b>Syntax:</b>\n",
    "* w = Canvas(master, option=value)\n",
    "* master is the parameter used to represent the parent window."
   ]
  },
  {
   "cell_type": "code",
   "execution_count": 2,
   "id": "2496521a",
   "metadata": {},
   "outputs": [],
   "source": [
    "#Canvas in Tkinter\n",
    "import tkinter as tk\n",
    "\n",
    "root = tk.Tk()\n",
    "\n",
    "canvas_1 = tk.Canvas(root, width=40, height=60)\n",
    "canvas_1.pack()\n",
    "canvas_height=20\n",
    "canvas_width=200\n",
    "\n",
    "y = int(canvas_height/2)\n",
    "canvas_1.create_line(0, y, canvas_width, y)\n",
    "\n",
    "root.mainloop()"
   ]
  }
 ],
 "metadata": {
  "kernelspec": {
   "display_name": "Python 3 (ipykernel)",
   "language": "python",
   "name": "python3"
  },
  "language_info": {
   "codemirror_mode": {
    "name": "ipython",
    "version": 3
   },
   "file_extension": ".py",
   "mimetype": "text/x-python",
   "name": "python",
   "nbconvert_exporter": "python",
   "pygments_lexer": "ipython3",
   "version": "3.9.12"
  }
 },
 "nbformat": 4,
 "nbformat_minor": 5
}
